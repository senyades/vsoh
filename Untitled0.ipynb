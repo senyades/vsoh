{
  "nbformat": 4,
  "nbformat_minor": 0,
  "metadata": {
    "colab": {
      "provenance": [],
      "include_colab_link": true
    },
    "kernelspec": {
      "name": "python3",
      "display_name": "Python 3"
    },
    "language_info": {
      "name": "python"
    }
  },
  "cells": [
    {
      "cell_type": "markdown",
      "metadata": {
        "id": "view-in-github",
        "colab_type": "text"
      },
      "source": [
        "<a href=\"https://colab.research.google.com/github/senyades/vsoh/blob/new-branch/Untitled0.ipynb\" target=\"_parent\"><img src=\"https://colab.research.google.com/assets/colab-badge.svg\" alt=\"Open In Colab\"/></a>"
      ]
    },
    {
      "cell_type": "code",
      "execution_count": null,
      "metadata": {
        "id": "gjtlBkEFU5_h"
      },
      "outputs": [],
      "source": [
        "class Chocolate:\n",
        "    def __init__(self, price: float, nuts_count: int, additive: str = None, nuts_presence: bool = False):\n",
        "        if price <= 0:\n",
        "            raise ValueError(\"Цена должна быть больше нуля\")\n",
        "        self.price = price\n",
        "        self.additive = additive\n",
        "        self.nuts_presence = nuts_presence\n",
        "        self.nuts_count = nuts_count\n",
        "\n",
        "    def show_my_chocolate(self):\n",
        "        if self.additive:\n",
        "            print(f\"Шоколадный батончик, добавка: {self.additive}\")\n",
        "        else:\n",
        "            print(\"Обычный шоколадный батончик\")\n",
        "\n",
        "    def count_nuts(self):\n",
        "        print('=' * self.nuts_count)\n",
        "\n",
        "    def __str__(self):\n",
        "        return f\"Шоколадный батончик, {self.price} рублей\""
      ]
    },
    {
      "cell_type": "code",
      "source": [
        "try:\n",
        "  choco1 = Chocolate(50.0,nuts_count=5,additive=\"макадамия\",nuts_presence=True)\n",
        "except ValueError as e:\n",
        "  print(e)"
      ],
      "metadata": {
        "id": "SKuExhtbZpCF"
      },
      "execution_count": null,
      "outputs": []
    },
    {
      "cell_type": "code",
      "source": [
        "choco1.show_my_chocolate()\n",
        "choco1.count_nuts()\n",
        "choco1.__str__()"
      ],
      "metadata": {
        "colab": {
          "base_uri": "https://localhost:8080/",
          "height": 73
        },
        "id": "VFqwAnm3sVqs",
        "outputId": "64a0133d-2edd-4e06-db1b-79e1b2fd48ea"
      },
      "execution_count": null,
      "outputs": [
        {
          "output_type": "stream",
          "name": "stdout",
          "text": [
            "Шоколадный батончик, добавка: макадамия\n",
            "=====\n"
          ]
        },
        {
          "output_type": "execute_result",
          "data": {
            "text/plain": [
              "'Шоколадный батончик, 50.0 рублей'"
            ],
            "application/vnd.google.colaboratory.intrinsic+json": {
              "type": "string"
            }
          },
          "metadata": {},
          "execution_count": 99
        }
      ]
    }
  ]
}